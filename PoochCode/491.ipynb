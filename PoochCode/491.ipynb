{
  "nbformat": 4,
  "nbformat_minor": 0,
  "metadata": {
    "colab": {
      "name": "491",
      "provenance": [],
      "collapsed_sections": []
    },
    "kernelspec": {
      "name": "python3",
      "display_name": "Python 3"
    }
  },
  "cells": [
    {
      "cell_type": "code",
      "metadata": {
        "id": "pTZBEKQmtHvO",
        "colab_type": "code",
        "outputId": "fa6fd7f8-afd7-4c0b-e696-d0ee3dc5b7f0",
        "colab": {
          "base_uri": "https://localhost:8080/",
          "height": 1000
        }
      },
      "source": [
        "!pip install tflearn\n",
        "!pip uninstall tensorflow_estimator\n",
        "!pip install tensorflow_estimator\n",
        "!pip install tensorflow==1.13.2\n"
      ],
      "execution_count": 0,
      "outputs": [
        {
          "output_type": "stream",
          "text": [
            "Collecting tflearn\n",
            "\u001b[?25l  Downloading https://files.pythonhosted.org/packages/16/ec/e9ce1b52e71f6dff3bd944f020cef7140779e783ab27512ea7c7275ddee5/tflearn-0.3.2.tar.gz (98kB)\n",
            "\r\u001b[K     |███▎                            | 10kB 15.6MB/s eta 0:00:01\r\u001b[K     |██████▋                         | 20kB 1.8MB/s eta 0:00:01\r\u001b[K     |██████████                      | 30kB 2.0MB/s eta 0:00:01\r\u001b[K     |█████████████▎                  | 40kB 2.3MB/s eta 0:00:01\r\u001b[K     |████████████████▋               | 51kB 2.0MB/s eta 0:00:01\r\u001b[K     |████████████████████            | 61kB 2.3MB/s eta 0:00:01\r\u001b[K     |███████████████████████▎        | 71kB 2.5MB/s eta 0:00:01\r\u001b[K     |██████████████████████████▋     | 81kB 2.7MB/s eta 0:00:01\r\u001b[K     |██████████████████████████████  | 92kB 2.9MB/s eta 0:00:01\r\u001b[K     |████████████████████████████████| 102kB 2.4MB/s \n",
            "\u001b[?25hRequirement already satisfied: numpy in /usr/local/lib/python3.6/dist-packages (from tflearn) (1.18.4)\n",
            "Requirement already satisfied: six in /usr/local/lib/python3.6/dist-packages (from tflearn) (1.12.0)\n",
            "Requirement already satisfied: Pillow in /usr/local/lib/python3.6/dist-packages (from tflearn) (7.0.0)\n",
            "Building wheels for collected packages: tflearn\n",
            "  Building wheel for tflearn (setup.py) ... \u001b[?25l\u001b[?25hdone\n",
            "  Created wheel for tflearn: filename=tflearn-0.3.2-cp36-none-any.whl size=128208 sha256=97bf3d3149b4c1556a8b3c86005a847a1909a37d92be5db4517bb441ff9b6a32\n",
            "  Stored in directory: /root/.cache/pip/wheels/d0/f6/69/0ef3ee395aac2e5d15d89efd29a9a216f3c27767b43b72c006\n",
            "Successfully built tflearn\n",
            "Installing collected packages: tflearn\n",
            "Successfully installed tflearn-0.3.2\n",
            "Uninstalling tensorflow-estimator-2.2.0:\n",
            "  Would remove:\n",
            "    /usr/local/lib/python3.6/dist-packages/tensorflow_estimator-2.2.0.dist-info/*\n",
            "    /usr/local/lib/python3.6/dist-packages/tensorflow_estimator/*\n",
            "Proceed (y/n)? y\n",
            "  Successfully uninstalled tensorflow-estimator-2.2.0\n",
            "Collecting tensorflow_estimator\n",
            "\u001b[?25l  Downloading https://files.pythonhosted.org/packages/a4/f5/926ae53d6a226ec0fda5208e0e581cffed895ccc89e36ba76a8e60895b78/tensorflow_estimator-2.2.0-py2.py3-none-any.whl (454kB)\n",
            "\u001b[K     |████████████████████████████████| 460kB 2.8MB/s \n",
            "\u001b[?25hInstalling collected packages: tensorflow-estimator\n",
            "Successfully installed tensorflow-estimator-2.2.0\n",
            "Collecting tensorflow==1.13.2\n",
            "\u001b[?25l  Downloading https://files.pythonhosted.org/packages/db/d3/651f95288a6cd9094f7411cdd90ef12a3d01a268009e0e3cd66b5c8d65bd/tensorflow-1.13.2-cp36-cp36m-manylinux1_x86_64.whl (92.6MB)\n",
            "\u001b[K     |████████████████████████████████| 92.6MB 55kB/s \n",
            "\u001b[?25hRequirement already satisfied: termcolor>=1.1.0 in /usr/local/lib/python3.6/dist-packages (from tensorflow==1.13.2) (1.1.0)\n",
            "Requirement already satisfied: keras-preprocessing>=1.0.5 in /usr/local/lib/python3.6/dist-packages (from tensorflow==1.13.2) (1.1.0)\n",
            "Requirement already satisfied: wheel>=0.26 in /usr/local/lib/python3.6/dist-packages (from tensorflow==1.13.2) (0.34.2)\n",
            "Collecting tensorboard<1.14.0,>=1.13.0\n",
            "\u001b[?25l  Downloading https://files.pythonhosted.org/packages/0f/39/bdd75b08a6fba41f098b6cb091b9e8c7a80e1b4d679a581a0ccd17b10373/tensorboard-1.13.1-py3-none-any.whl (3.2MB)\n",
            "\u001b[K     |████████████████████████████████| 3.2MB 42.4MB/s \n",
            "\u001b[?25hCollecting tensorflow-estimator<1.14.0rc0,>=1.13.0\n",
            "\u001b[?25l  Downloading https://files.pythonhosted.org/packages/bb/48/13f49fc3fa0fdf916aa1419013bb8f2ad09674c275b4046d5ee669a46873/tensorflow_estimator-1.13.0-py2.py3-none-any.whl (367kB)\n",
            "\u001b[K     |████████████████████████████████| 368kB 43.1MB/s \n",
            "\u001b[?25hRequirement already satisfied: grpcio>=1.8.6 in /usr/local/lib/python3.6/dist-packages (from tensorflow==1.13.2) (1.28.1)\n",
            "Requirement already satisfied: gast>=0.2.0 in /usr/local/lib/python3.6/dist-packages (from tensorflow==1.13.2) (0.3.3)\n",
            "Requirement already satisfied: protobuf>=3.6.1 in /usr/local/lib/python3.6/dist-packages (from tensorflow==1.13.2) (3.10.0)\n",
            "Requirement already satisfied: keras-applications>=1.0.6 in /usr/local/lib/python3.6/dist-packages (from tensorflow==1.13.2) (1.0.8)\n",
            "Requirement already satisfied: six>=1.10.0 in /usr/local/lib/python3.6/dist-packages (from tensorflow==1.13.2) (1.12.0)\n",
            "Requirement already satisfied: astor>=0.6.0 in /usr/local/lib/python3.6/dist-packages (from tensorflow==1.13.2) (0.8.1)\n",
            "Requirement already satisfied: absl-py>=0.1.6 in /usr/local/lib/python3.6/dist-packages (from tensorflow==1.13.2) (0.9.0)\n",
            "Requirement already satisfied: numpy<2.0,>=1.16.0 in /usr/local/lib/python3.6/dist-packages (from tensorflow==1.13.2) (1.18.4)\n",
            "Requirement already satisfied: werkzeug>=0.11.15 in /usr/local/lib/python3.6/dist-packages (from tensorboard<1.14.0,>=1.13.0->tensorflow==1.13.2) (1.0.1)\n",
            "Requirement already satisfied: markdown>=2.6.8 in /usr/local/lib/python3.6/dist-packages (from tensorboard<1.14.0,>=1.13.0->tensorflow==1.13.2) (3.2.1)\n",
            "Collecting mock>=2.0.0\n",
            "  Downloading https://files.pythonhosted.org/packages/cd/74/d72daf8dff5b6566db857cfd088907bb0355f5dd2914c4b3ef065c790735/mock-4.0.2-py3-none-any.whl\n",
            "Requirement already satisfied: setuptools in /usr/local/lib/python3.6/dist-packages (from protobuf>=3.6.1->tensorflow==1.13.2) (46.1.3)\n",
            "Requirement already satisfied: h5py in /usr/local/lib/python3.6/dist-packages (from keras-applications>=1.0.6->tensorflow==1.13.2) (2.10.0)\n",
            "Installing collected packages: tensorboard, mock, tensorflow-estimator, tensorflow\n",
            "  Found existing installation: tensorboard 2.2.1\n",
            "    Uninstalling tensorboard-2.2.1:\n",
            "      Successfully uninstalled tensorboard-2.2.1\n",
            "  Found existing installation: tensorflow-estimator 2.2.0\n",
            "    Uninstalling tensorflow-estimator-2.2.0:\n",
            "      Successfully uninstalled tensorflow-estimator-2.2.0\n",
            "  Found existing installation: tensorflow 2.2.0\n",
            "    Uninstalling tensorflow-2.2.0:\n"
          ],
          "name": "stdout"
        }
      ]
    },
    {
      "cell_type": "code",
      "metadata": {
        "id": "sPF54LGkogG1",
        "colab_type": "code",
        "colab": {}
      },
      "source": [
        "!git clone https://shashikumarkm@bitbucket.org/shashikumarkm/dogsvscats.git"
      ],
      "execution_count": 0,
      "outputs": []
    },
    {
      "cell_type": "code",
      "metadata": {
        "id": "_9QB0HwLAxxa",
        "colab_type": "code",
        "colab": {}
      },
      "source": [
        "import cv2                 # working with, mainly resizing, images\n",
        "import numpy as np         # dealing with arrays\n",
        "import os                  # dealing with directories\n",
        "from random import shuffle # mixing up or currently ordered data that might lead our network astray in training.\n",
        "from tqdm import tqdm      # a nice pretty percentage bar for tasks. \n",
        "\n",
        "TRAIN_DIR = 'dogsvscats/train'\n",
        "TEST_DIR = 'dogsvscats/test'\n",
        "IMG_SIZE = 50     #50 x 50 images.. perfect square images are easier to process\n",
        "LR = 1e-3      #learning rate\n",
        "\n",
        "MODEL_NAME = 'dogsvscats-{}-{}.model'.format(LR, '2conv-basic') "
      ],
      "execution_count": 0,
      "outputs": []
    },
    {
      "cell_type": "code",
      "metadata": {
        "id": "Z_sOsOldA9Cd",
        "colab_type": "code",
        "colab": {}
      },
      "source": [
        "#Helper function: Process the images and convert it into a 2D array, greyscale data\n",
        "def label_img(img):\n",
        "    word_label = img.split('.')[-3] #Example file name is dog.92.png then it considers only dog\n",
        "    # conversion to one-hot array [cat,dog]\n",
        "    if word_label == 'cat': return [1,0]    #[much cat, no dog]\n",
        "    elif word_label == 'dog': return [0,1]      #[no cat, very dog]"
      ],
      "execution_count": 0,
      "outputs": []
    },
    {
      "cell_type": "code",
      "metadata": {
        "id": "XDeb3j7LBFl7",
        "colab_type": "code",
        "colab": {}
      },
      "source": [
        "#Helper function: which helps to create a list of the training data with the image and its respective label\n",
        "def create_train_data():\n",
        "    training_data = []\n",
        "    for img in tqdm(os.listdir(TRAIN_DIR)):\n",
        "        label = label_img(img)\n",
        "        path = os.path.join(TRAIN_DIR,img)\n",
        "        img = cv2.imread(path,cv2.IMREAD_GRAYSCALE) #read the full path of the image\n",
        "        img = cv2.resize(img, (IMG_SIZE,IMG_SIZE)) #resize just in case, some image isnt perfect 50x50\n",
        "        training_data.append([np.array(img),np.array(label)]) #this creates a list with the image (its full path) and also the label - dog or cat\n",
        "    shuffle(training_data)\n",
        "    np.save('train_data.npy', training_data)\n",
        "    return training_data"
      ],
      "execution_count": 0,
      "outputs": []
    },
    {
      "cell_type": "code",
      "metadata": {
        "id": "b2T6qKSXBJEW",
        "colab_type": "code",
        "colab": {}
      },
      "source": [
        "def process_test_data():\n",
        "    testing_data = []\n",
        "    for img in tqdm(os.listdir(TEST_DIR)):\n",
        "        path = os.path.join(TEST_DIR,img)\n",
        "        img_num = img.split('.')[0]\n",
        "        img = cv2.imread(path,cv2.IMREAD_GRAYSCALE)\n",
        "        img = cv2.resize(img, (IMG_SIZE,IMG_SIZE))\n",
        "        testing_data.append([np.array(img), img_num])\n",
        "        \n",
        "    shuffle(testing_data)\n",
        "    np.save('test_data.npy', testing_data)\n",
        "    return testing_data"
      ],
      "execution_count": 0,
      "outputs": []
    },
    {
      "cell_type": "code",
      "metadata": {
        "id": "tr3j5zcgBJWX",
        "colab_type": "code",
        "colab": {}
      },
      "source": [
        "train_data = create_train_data()\n",
        "# If you have already created the dataset:\n",
        "#train_data = np.load('train_data.npy',allow_pickle=True)"
      ],
      "execution_count": 0,
      "outputs": []
    },
    {
      "cell_type": "code",
      "metadata": {
        "id": "zfL59j-vClUF",
        "colab_type": "code",
        "colab": {}
      },
      "source": [
        "import matplotlib.pyplot as plt\n",
        "from PIL import Image\n",
        "for i in range(20):\n",
        "  plt.subplot(4,5,i+1)\n",
        "  if(train_data[i][1][0]==0):\n",
        "    plt.title(\"DOG\")\n",
        "  else:\n",
        "    plt.title(\"CAT\")\n",
        "  #plt.xlabel(train_data[i][1][0])\n",
        "  plt.imshow(train_data[i][0], cmap=plt.get_cmap('gray'))\n",
        "plt.show()"
      ],
      "execution_count": 0,
      "outputs": []
    },
    {
      "cell_type": "code",
      "metadata": {
        "id": "3dPvDu2Siaxo",
        "colab_type": "code",
        "colab": {}
      },
      "source": [
        "import tflearn\n",
        "from tflearn.layers.conv import conv_2d, max_pool_2d\n",
        "from tflearn.layers.core import input_data, dropout, fully_connected\n",
        "from tflearn.layers.estimator import regression\n",
        "\n",
        "convnet = input_data(shape=[None, IMG_SIZE, IMG_SIZE, 1], name='input') #50x50 is the image size\n",
        "\n",
        "convnet = conv_2d(convnet, 32, 3, activation='relu')\n",
        "convnet = conv_2d(convnet, 32, 3, activation='relu')\n",
        "convnet = conv_2d(convnet, 32, 3, activation='relu')\n",
        "convnet = max_pool_2d(convnet, 3)\n",
        "\n",
        "convnet = conv_2d(convnet, 64, 3, activation='relu')\n",
        "convnet = conv_2d(convnet, 64, 3, activation='relu')\n",
        "convnet = max_pool_2d(convnet, 3)\n",
        "\n",
        "convnet = conv_2d(convnet, 128, 3, activation='relu')\n",
        "convnet = max_pool_2d(convnet, 3)\n",
        "\n",
        "convnet = conv_2d(convnet, 256, 3, activation='relu')\n",
        "convnet = max_pool_2d(convnet, 3)\n",
        "\n",
        "convnet = conv_2d(convnet, 512, 3, activation='relu')\n",
        "convnet = max_pool_2d(convnet, 3)\n",
        "\n",
        "convnet = \n",
        "\n",
        "convnet = fully_connected(convnet, 1024, activation='relu')\n",
        "convnet = dropout(convnet, 0.8)\n",
        "\n",
        "convnet = fully_connected(convnet, 2, activation='softmax') #2 examples - it is either a dog or a cat\n",
        "convnet = regression(convnet, optimizer='adam', learning_rate=LR, loss='categorical_crossentropy', name='targets')\n",
        "\n",
        "\n",
        "#model = tflearn.DNN(convnet, tensorboard_dir='log')\n",
        "model = tflearn.DNN(convnet,checkpoint_path = '/tmp/tflearn_logs/',max_checkpoints=1, tensorboard_verbose=0)"
      ],
      "execution_count": 0,
      "outputs": []
    },
    {
      "cell_type": "code",
      "metadata": {
        "id": "GpPCfJEXuUOu",
        "colab_type": "code",
        "colab": {}
      },
      "source": [
        "if os.path.exists('{}.meta'.format(MODEL_NAME)):\n",
        "    model.load(MODEL_NAME)\n",
        "    print('model loaded!')"
      ],
      "execution_count": 0,
      "outputs": []
    },
    {
      "cell_type": "code",
      "metadata": {
        "id": "KhIuRGPJuXwV",
        "colab_type": "code",
        "colab": {}
      },
      "source": [
        "train = train_data[:-500] #Training data is all images, except the last 500 images - which we are going to use as validation set\n",
        "test = train_data[-500:] #This is the validation / label data, to check accuracy"
      ],
      "execution_count": 0,
      "outputs": []
    },
    {
      "cell_type": "code",
      "metadata": {
        "id": "0yplXowJuZp9",
        "colab_type": "code",
        "colab": {}
      },
      "source": [
        "#This is what is getting fit in the model\n",
        "X = np.array([i[0] for i in train]).reshape(-1,IMG_SIZE,IMG_SIZE,1) #train contains image and label both\n",
        "Y = [i[1] for i in train]\n",
        "\n",
        "# this is for testing the accuracy of the model / the validation set\n",
        "test_x = np.array([i[0] for i in test]).reshape(-1,IMG_SIZE,IMG_SIZE,1)\n",
        "test_y = [i[1] for i in test]"
      ],
      "execution_count": 0,
      "outputs": []
    },
    {
      "cell_type": "code",
      "metadata": {
        "id": "z3JADkgTubO5",
        "colab_type": "code",
        "colab": {}
      },
      "source": [
        "history = model.fit({'input': X}, {'targets': Y}, n_epoch=10, validation_set=({'input': test_x}, {'targets': test_y}), \n",
        "    snapshot_step=500, show_metric=True, run_id=MODEL_NAME)\n"
      ],
      "execution_count": 0,
      "outputs": []
    },
    {
      "cell_type": "code",
      "metadata": {
        "id": "H3zxf6Nuj9uB",
        "colab_type": "code",
        "colab": {}
      },
      "source": [
        "%load_ext tensorboard\n",
        "%tensorboard --logdir /tmp/tflearn_logs"
      ],
      "execution_count": 0,
      "outputs": []
    },
    {
      "cell_type": "code",
      "metadata": {
        "id": "al5nBO4c0P6C",
        "colab_type": "code",
        "colab": {}
      },
      "source": [
        "model.save(MODEL_NAME)"
      ],
      "execution_count": 0,
      "outputs": []
    },
    {
      "cell_type": "code",
      "metadata": {
        "id": "cr-nZBB-BcrB",
        "colab_type": "code",
        "colab": {}
      },
      "source": [
        "import matplotlib.pyplot as plt\n",
        "\n",
        "# if you need to create the data:\n",
        "test_data = process_test_data()\n",
        "# if you already have some saved:\n",
        "#test_data = np.load('test_data.npy')\n",
        "\n",
        "fig=plt.figure()\n",
        "\n",
        "for num,data in enumerate(test_data[0:12]): #Just plotted the first 12 data, to see if the model predicts the right labels\n",
        "    # cat: [1,0]\n",
        "    # dog: [0,1]\n",
        "    \n",
        "    img_num = data[1]\n",
        "    img_data = data[0]\n",
        "    \n",
        "    y = fig.add_subplot(3,4,num+1) #3x4 sub plot for the 12 images\n",
        "    orig = img_data\n",
        "    data = img_data.reshape(IMG_SIZE,IMG_SIZE,1)\n",
        "    #model_out = model.predict([data])[0]\n",
        "    model_out = model.predict([data])[0] #prediction takes a list, so it only returns the 0th element\n",
        "    \n",
        "    if np.argmax(model_out) == 1: str_label='Dog' #printing labels below the images\n",
        "    else: str_label='Cat'\n",
        "        \n",
        "    y.imshow(orig,cmap='gray')\n",
        "    plt.title(str_label) \n",
        "    y.axes.get_xaxis().set_visible(False)\n",
        "    y.axes.get_yaxis().set_visible(False)\n",
        "plt.show()\n",
        "\n"
      ],
      "execution_count": 0,
      "outputs": []
    },
    {
      "cell_type": "code",
      "metadata": {
        "id": "ImSz0me4o1dk",
        "colab_type": "code",
        "colab": {}
      },
      "source": [
        ""
      ],
      "execution_count": 0,
      "outputs": []
    }
  ]
}